{
 "cells": [
  {
   "cell_type": "markdown",
   "metadata": {},
   "source": [
    "## Generals\n",
    "\n",
    "### Framework for each dataset\n",
    "\n",
    "1. Plot response, check for multicollinearity and non-linear relationships -> do we need to log y or x?\n",
    "2. Set a Loss Functon and argue choice (RMSE, MAE, ...)\n",
    "3. Run different models (LM, NaiveBayer, Trees,...) and optime parameters with 5-fold CV\n",
    "4. Choose each model with \"optimal\" parameters after CV and save Loss\n",
    "\n",
    "### Final question\n",
    "\n",
    "1. Compare Results of the algorithms for different data set\n",
    "2. Which one performed best in which setting and why?\n",
    "3. How sensitive are models to changes in parameters?\n",
    "\n",
    "## Inputs Tobias Kr\n",
    "\n",
    "1. Create list of models and list of parameters which we can loop through all datasets. I suggest *[Model (parameters)]*:\n",
    "    - LM (robust I/O, Normalise I/O) */Robust regression models: https://scikit-learn.org/stable/auto_examples/linear_model/plot_robust_fit.html)\n",
    "    - Ridge ($\\lambda$)\n",
    "    - Lasso ($\\lambda$)\n",
    "    - Bayesian Ridge\n",
    "    - Decision Tree Regression (so many parameters o.o)\n",
    "    - Random Forest Regression (also so many o.o)\n",
    "    - k-nn Regressor (Scaling of Variables, Distance, k)\n",
    "    - Auto-ML ? 🎉\n",
    "    \n",
    "*List of all scikit algorithms here: https://scikit-learn.org/stable/supervised_learning.html*\n",
    "\n",
    "---\n",
    "\n",
    "## Show Case Classes\n",
    "\n",
    "---\n",
    "\n",
    "- **DataSetting:**\n",
    "    - Is the environment for each (or maybe all) dataset/s. It allows us to simply run all fits and regressions with one command, to collect all outputs and find best models.\n",
    "    - Inputs:\n",
    "        - y, x, models, loss_function\n",
    "    - Methods:\n",
    "        - evaluate_all() ... runs all models with all parameter settings\n",
    "        - collect_losses() ... collects all losses from all models and parameter settings\n",
    "- **Regressor:**\n",
    "    - This class stores a model and various combinations of parameters as dictionary. Calling the method fit_all() will fit the model with all parameter combinations and save the losses.\n",
    "    - inputs:\n",
    "        - name, model, parameters, (eventually loss_function)\n",
    "        \n",
    "### Simple example\n",
    "\n",
    "***Attention**: If you change the source file, you must restart the jupyter kernel :) *"
   ]
  },
  {
   "cell_type": "code",
   "execution_count": 1,
   "metadata": {},
   "outputs": [
    {
     "name": "stdout",
     "output_type": "stream",
     "text": [
      "RandomForest done in 0.046 seconds.\n",
      "DecisionTree done in 0.005 seconds.\n",
      "\n",
      "\n",
      "RandomForest \t 2.65 \t {'max_depth': 3, 'min_samples_leaf': 1}\n",
      "RandomForest \t 1.818 \t {'max_depth': 6, 'bootstrap': False}\n",
      "DecisionTree \t 4.389 \t {'max_depth': 1, 'max_leaf_nodes': 2}\n",
      "DecisionTree \t 4.389 \t {'max_depth': 3, 'max_leaf_nodes': 2}\n",
      "DecisionTree \t 3.338 \t {'max_depth': 5, 'max_leaf_nodes': 5}\n",
      "DecisionTree \t 3.338 \t {'max_depth': 7, 'max_leaf_nodes': 5}\n"
     ]
    },
    {
     "name": "stderr",
     "output_type": "stream",
     "text": [
      "/usr/local/lib/python3.7/site-packages/sklearn/ensemble/forest.py:246: FutureWarning: The default value of n_estimators will change from 10 in version 0.20 to 100 in 0.22.\n",
      "  \"10 in version 0.20 to 100 in 0.22.\", FutureWarning)\n",
      "/usr/local/lib/python3.7/site-packages/sklearn/ensemble/forest.py:246: FutureWarning: The default value of n_estimators will change from 10 in version 0.20 to 100 in 0.22.\n",
      "  \"10 in version 0.20 to 100 in 0.22.\", FutureWarning)\n"
     ]
    }
   ],
   "source": [
    "# import numpy\n",
    "import numpy as np\n",
    "\n",
    "# load classes\n",
    "from DataSetting import *\n",
    "from Regressor import *\n",
    "from HelpFunctions import *\n",
    "\n",
    "# choose two models\n",
    "from sklearn.ensemble import RandomForestRegressor\n",
    "from sklearn.tree import DecisionTreeRegressor\n",
    "\n",
    "# get a dataset\n",
    "from sklearn.datasets import load_boston\n",
    "dat = load_boston()\n",
    "x = dat['data']\n",
    "y = dat['target']\n",
    "\n",
    "# set parameters for models as dict\n",
    "parameters_randomforest = [{'max_depth':3, 'min_samples_leaf':1},\n",
    "                           {'max_depth':6, 'bootstrap':False}]\n",
    "\n",
    "parameters_decisiontree = [{'max_depth':1, 'max_leaf_nodes':2},\n",
    "                           {'max_depth':3, 'max_leaf_nodes':2},\n",
    "                           {'max_depth':5, 'max_leaf_nodes':5},\n",
    "                           {'max_depth':7, 'max_leaf_nodes':5}]\n",
    "\n",
    "# create Regressors (a Regressor is one algorithm and a list of parameters)\n",
    "models = [Regressor(name=\"RandomForest\",\n",
    "                    model=RandomForestRegressor,\n",
    "                    parameters=parameters_randomforest),\n",
    "          Regressor(name=\"DecisionTree\",\n",
    "                    model=DecisionTreeRegressor,\n",
    "                    parameters=parameters_decisiontree)]\n",
    "\n",
    "# create a DataSetting\n",
    "ds = DataSetting(y=y, x=x, models=models, loss_function=rmse)\n",
    "\n",
    "# fit all models\n",
    "ds.evaluate_all()\n",
    "\n",
    "# show results\n",
    "ds.collect_losses()"
   ]
  },
  {
   "cell_type": "markdown",
   "metadata": {},
   "source": [
    "---\n",
    "\n",
    "## Full code\n",
    "\n",
    "see FullCode.py\n",
    "\n",
    "---\n",
    "\n",
    "## To Dos:\n",
    "\n",
    "- Introduce (5-fold) Cross Validation: create a matrix with (5) columns storing the IDs used in each CV. \n",
    "- \"collect_losses()\" should return a vector with all values\n",
    "- Introduce function like \"collect_losses()\" which only takes the model with the best parameters.\n",
    "- Make research on more parameters and add them\n",
    "- Add more ToDos 🎉"
   ]
  },
  {
   "cell_type": "code",
   "execution_count": null,
   "metadata": {},
   "outputs": [],
   "source": []
  }
 ],
 "metadata": {
  "kernelspec": {
   "display_name": "Python 3",
   "language": "python",
   "name": "python3"
  },
  "language_info": {
   "codemirror_mode": {
    "name": "ipython",
    "version": 3
   },
   "file_extension": ".py",
   "mimetype": "text/x-python",
   "name": "python",
   "nbconvert_exporter": "python",
   "pygments_lexer": "ipython3",
   "version": "3.7.2"
  }
 },
 "nbformat": 4,
 "nbformat_minor": 2
}
