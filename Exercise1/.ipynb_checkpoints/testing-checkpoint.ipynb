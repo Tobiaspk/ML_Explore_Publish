{
 "cells": [
  {
   "cell_type": "code",
   "execution_count": 1,
   "metadata": {},
   "outputs": [
    {
     "name": "stdout",
     "output_type": "stream",
     "text": [
      "Models loaded succesfully on variable 'models'\n",
      "Reduced Models loaded succesfully on variable 'models_reduced'\n"
     ]
    }
   ],
   "source": [
    "import numpy as np\n",
    "import pandas as pd\n",
    "import seaborn as sns\n",
    "import matplotlib.pyplot as plt\n",
    "from DataSetting import *\n",
    "from Regressor import * \n",
    "from HelpFunctions import *\n",
    "from DefineModels import * \n",
    "from DefineModelsReduced import * \n",
    "\n",
    "\n",
    "## Read Data\n",
    "AutoTrain = pd.read_csv(\"datasets/AutoTrain.csv\", na_values=\"?\")\n",
    "BikeTrain = pd.read_csv(\"datasets/BikeTrain.csv\")\n",
    "Facebook = pd.read_csv(\"datasets/Facebook.csv\", header = None)\n",
    "RealEstate = pd.read_csv(\"datasets/RealEstate.csv\")\n",
    "\n",
    "\n",
    "## EVALUATE AUTO TRAIN\n",
    "AutoTrain.horsepower = AutoTrain.horsepower.fillna(AutoTrain.horsepower.mean())"
   ]
  },
  {
   "cell_type": "code",
   "execution_count": 2,
   "metadata": {
    "scrolled": false
   },
   "outputs": [],
   "source": [
    "## DATA SETTINGS\n",
    "\n",
    "### SMALL DATASETS\n",
    "## AUTOS\n",
    "ds_AutoTrain = DataSetting(y=AutoTrain[\"mpg\"],\n",
    "                           x=AutoTrain.drop([\"id\", \"mpg\", \"carName\"], 1),\n",
    "                           models=models,\n",
    "                           loss_function=rmse,\n",
    "                           k=5)\n",
    "\n",
    "## REALESTATE\n",
    "ds_RealEstate = DataSetting(y = RealEstate[\"Y house price of unit area\"],\n",
    "                            x = RealEstate.drop(columns = [\"Y house price of unit area\"]),\n",
    "                            models = models,\n",
    "                            loss_function= rmse,\n",
    "                            k = 5)\n",
    "\n",
    "### BIG DATASETS\n",
    "## BIKE\n",
    "ds_BikeTrain = DataSetting(y= BikeTrain[\"cnt\"],\n",
    "                           x = BikeTrain.drop([\"id\", \"cnt\", \"dteday\"], 1),\n",
    "                           models = models_reduced,\n",
    "                           loss_function = rmse,\n",
    "                           k = 5)\n",
    "\n",
    "## FACEBOOK\n",
    "ds_FaceBook = DataSetting(y = Facebook.iloc[:,53],\n",
    "                          x = Facebook.drop(columns = [53]),\n",
    "                          models = models_reduced,\n",
    "                          loss_function= rmse,\n",
    "                          k=5)"
   ]
  },
  {
   "cell_type": "code",
   "execution_count": 3,
   "metadata": {},
   "outputs": [],
   "source": [
    "# RUN MODELS"
   ]
  },
  {
   "cell_type": "code",
   "execution_count": 4,
   "metadata": {
    "scrolled": true
   },
   "outputs": [
    {
     "name": "stdout",
     "output_type": "stream",
     "text": [
      "########## AUTO ##########\n",
      "OLS done in 0.029  seconds.\n",
      "ThSen done in 6.924  seconds.\n",
      "Huber done in 0.869  seconds.\n",
      "Ridge done in 0.113  seconds.\n",
      "Lasso done in 0.135  seconds.\n",
      "KNN done in 0.177  seconds.\n",
      "DecTree done in 0.947  seconds.\n",
      "Forest done in 8.27  seconds.\n"
     ]
    },
    {
     "name": "stderr",
     "output_type": "stream",
     "text": [
      "/usr/local/lib/python3.7/site-packages/xgboost/core.py:587: FutureWarning: Series.base is deprecated and will be removed in a future version\n",
      "  if getattr(data, 'base', None) is not None and \\\n"
     ]
    },
    {
     "name": "stdout",
     "output_type": "stream",
     "text": [
      "XGBoost done in 7.353  seconds.\n",
      "Everything evaluated in 24.821 seconds.\n",
      "\n",
      "\n",
      "########## REALESTATE ##########\n",
      "OLS done in 0.023  seconds.\n",
      "ThSen done in 5.811  seconds.\n",
      "Huber done in 0.806  seconds.\n",
      "Ridge done in 0.095  seconds.\n",
      "Lasso done in 0.094  seconds.\n",
      "KNN done in 0.171  seconds.\n",
      "DecTree done in 0.886  seconds.\n",
      "Forest done in 9.79  seconds.\n"
     ]
    },
    {
     "name": "stderr",
     "output_type": "stream",
     "text": [
      "/usr/local/lib/python3.7/site-packages/xgboost/core.py:587: FutureWarning: Series.base is deprecated and will be removed in a future version\n",
      "  if getattr(data, 'base', None) is not None and \\\n"
     ]
    },
    {
     "name": "stdout",
     "output_type": "stream",
     "text": [
      "XGBoost done in 10.141  seconds.\n",
      "Everything evaluated in 27.819 seconds.\n",
      "\n",
      "\n",
      "########## BIKE ##########\n",
      "OLS parameter 1/1 done\n",
      "OLS done in 0.043  seconds.\n",
      "Huber parameter 1/6 done\n",
      "Huber parameter 2/6 done\n",
      "Huber parameter 3/6 done\n",
      "Huber parameter 4/6 done\n",
      "Huber parameter 5/6 done\n",
      "Huber parameter 6/6 done\n",
      "Huber done in 3.254  seconds.\n",
      "Ridge parameter 1/4 done\n",
      "Ridge parameter 2/4 done\n",
      "Ridge parameter 3/4 done\n",
      "Ridge parameter 4/4 done\n",
      "Ridge done in 0.134  seconds.\n",
      "Lasso parameter 1/4 done\n",
      "Lasso parameter 2/4 done\n",
      "Lasso parameter 3/4 done\n",
      "Lasso parameter 4/4 done\n",
      "Lasso done in 0.207  seconds.\n",
      "KNN parameter 1/8 done\n",
      "KNN parameter 2/8 done\n",
      "KNN parameter 3/8 done\n",
      "KNN parameter 4/8 done\n",
      "KNN parameter 5/8 done\n",
      "KNN parameter 6/8 done\n",
      "KNN parameter 7/8 done\n",
      "KNN parameter 8/8 done\n",
      "KNN done in 1.175  seconds.\n",
      "DecTree parameter 1/45 done\n",
      "DecTree parameter 2/45 done\n",
      "DecTree parameter 3/45 done\n",
      "DecTree parameter 4/45 done\n",
      "DecTree parameter 5/45 done\n",
      "DecTree parameter 6/45 done\n",
      "DecTree parameter 7/45 done\n",
      "DecTree parameter 8/45 done\n",
      "DecTree parameter 9/45 done\n",
      "DecTree parameter 10/45 done\n",
      "DecTree parameter 11/45 done\n",
      "DecTree parameter 12/45 done\n",
      "DecTree parameter 13/45 done\n",
      "DecTree parameter 14/45 done\n",
      "DecTree parameter 15/45 done\n",
      "DecTree parameter 16/45 done\n",
      "DecTree parameter 17/45 done\n",
      "DecTree parameter 18/45 done\n",
      "DecTree parameter 19/45 done\n",
      "DecTree parameter 20/45 done\n",
      "DecTree parameter 21/45 done\n",
      "DecTree parameter 22/45 done\n",
      "DecTree parameter 23/45 done\n",
      "DecTree parameter 24/45 done\n",
      "DecTree parameter 25/45 done\n",
      "DecTree parameter 26/45 done\n",
      "DecTree parameter 27/45 done\n",
      "DecTree parameter 28/45 done\n",
      "DecTree parameter 29/45 done\n",
      "DecTree parameter 30/45 done\n",
      "DecTree parameter 31/45 done\n",
      "DecTree parameter 32/45 done\n",
      "DecTree parameter 33/45 done\n",
      "DecTree parameter 34/45 done\n",
      "DecTree parameter 35/45 done\n",
      "DecTree parameter 36/45 done\n",
      "DecTree parameter 37/45 done\n",
      "DecTree parameter 38/45 done\n",
      "DecTree parameter 39/45 done\n",
      "DecTree parameter 40/45 done\n",
      "DecTree parameter 41/45 done\n",
      "DecTree parameter 42/45 done\n",
      "DecTree parameter 43/45 done\n",
      "DecTree parameter 44/45 done\n",
      "DecTree parameter 45/45 done\n",
      "DecTree done in 2.919  seconds.\n",
      "Forest parameter 1/4 done\n",
      "Forest parameter 2/4 done\n",
      "Forest parameter 3/4 done\n",
      "Forest parameter 4/4 done\n",
      "Forest done in 7.005  seconds.\n"
     ]
    },
    {
     "name": "stderr",
     "output_type": "stream",
     "text": [
      "/usr/local/lib/python3.7/site-packages/xgboost/core.py:587: FutureWarning: Series.base is deprecated and will be removed in a future version\n",
      "  if getattr(data, 'base', None) is not None and \\\n"
     ]
    },
    {
     "name": "stdout",
     "output_type": "stream",
     "text": [
      "XGBoost parameter 1/8 done\n",
      "XGBoost parameter 2/8 done\n",
      "XGBoost parameter 3/8 done\n",
      "XGBoost parameter 4/8 done\n",
      "XGBoost parameter 5/8 done\n",
      "XGBoost parameter 6/8 done\n",
      "XGBoost parameter 7/8 done\n",
      "XGBoost parameter 8/8 done\n",
      "XGBoost done in 10.171  seconds.\n",
      "Everything evaluated in 24.91 seconds.\n",
      "\n",
      "\n",
      "########## FACEBOOK ##########\n",
      "OLS parameter 1/1 done\n",
      "OLS done in 0.66  seconds.\n",
      "Huber parameter 1/6 done\n",
      "Huber parameter 2/6 done\n",
      "Huber parameter 3/6 done\n",
      "Huber parameter 4/6 done\n",
      "Huber parameter 5/6 done\n",
      "Huber parameter 6/6 done\n",
      "Huber done in 47.358  seconds.\n"
     ]
    },
    {
     "name": "stderr",
     "output_type": "stream",
     "text": [
      "/usr/local/lib/python3.7/site-packages/sklearn/linear_model/ridge.py:125: LinAlgWarning: Ill-conditioned matrix (rcond=1.18112e-18): result may not be accurate.\n",
      "  overwrite_a=True).T\n",
      "/usr/local/lib/python3.7/site-packages/sklearn/linear_model/ridge.py:125: LinAlgWarning: Ill-conditioned matrix (rcond=1.10027e-18): result may not be accurate.\n",
      "  overwrite_a=True).T\n",
      "/usr/local/lib/python3.7/site-packages/sklearn/linear_model/ridge.py:125: LinAlgWarning: Ill-conditioned matrix (rcond=1.06845e-18): result may not be accurate.\n",
      "  overwrite_a=True).T\n",
      "/usr/local/lib/python3.7/site-packages/sklearn/linear_model/ridge.py:125: LinAlgWarning: Ill-conditioned matrix (rcond=4.44302e-18): result may not be accurate.\n",
      "  overwrite_a=True).T\n",
      "/usr/local/lib/python3.7/site-packages/sklearn/linear_model/ridge.py:125: LinAlgWarning: Ill-conditioned matrix (rcond=1.11657e-18): result may not be accurate.\n",
      "  overwrite_a=True).T\n",
      "/usr/local/lib/python3.7/site-packages/sklearn/linear_model/ridge.py:125: LinAlgWarning: Ill-conditioned matrix (rcond=2.36061e-18): result may not be accurate.\n",
      "  overwrite_a=True).T\n",
      "/usr/local/lib/python3.7/site-packages/sklearn/linear_model/ridge.py:125: LinAlgWarning: Ill-conditioned matrix (rcond=2.19909e-18): result may not be accurate.\n",
      "  overwrite_a=True).T\n",
      "/usr/local/lib/python3.7/site-packages/sklearn/linear_model/ridge.py:125: LinAlgWarning: Ill-conditioned matrix (rcond=2.13543e-18): result may not be accurate.\n",
      "  overwrite_a=True).T\n"
     ]
    },
    {
     "name": "stdout",
     "output_type": "stream",
     "text": [
      "Ridge parameter 1/4 done\n"
     ]
    },
    {
     "name": "stderr",
     "output_type": "stream",
     "text": [
      "/usr/local/lib/python3.7/site-packages/sklearn/linear_model/ridge.py:125: LinAlgWarning: Ill-conditioned matrix (rcond=8.87996e-18): result may not be accurate.\n",
      "  overwrite_a=True).T\n",
      "/usr/local/lib/python3.7/site-packages/sklearn/linear_model/ridge.py:125: LinAlgWarning: Ill-conditioned matrix (rcond=2.23307e-18): result may not be accurate.\n",
      "  overwrite_a=True).T\n"
     ]
    },
    {
     "name": "stdout",
     "output_type": "stream",
     "text": [
      "Ridge parameter 2/4 done\n"
     ]
    },
    {
     "name": "stderr",
     "output_type": "stream",
     "text": [
      "/usr/local/lib/python3.7/site-packages/sklearn/linear_model/ridge.py:125: LinAlgWarning: Ill-conditioned matrix (rcond=4.71476e-18): result may not be accurate.\n",
      "  overwrite_a=True).T\n",
      "/usr/local/lib/python3.7/site-packages/sklearn/linear_model/ridge.py:125: LinAlgWarning: Ill-conditioned matrix (rcond=4.39245e-18): result may not be accurate.\n",
      "  overwrite_a=True).T\n",
      "/usr/local/lib/python3.7/site-packages/sklearn/linear_model/ridge.py:125: LinAlgWarning: Ill-conditioned matrix (rcond=4.26503e-18): result may not be accurate.\n",
      "  overwrite_a=True).T\n",
      "/usr/local/lib/python3.7/site-packages/sklearn/linear_model/ridge.py:125: LinAlgWarning: Ill-conditioned matrix (rcond=1.77357e-17): result may not be accurate.\n",
      "  overwrite_a=True).T\n",
      "/usr/local/lib/python3.7/site-packages/sklearn/linear_model/ridge.py:125: LinAlgWarning: Ill-conditioned matrix (rcond=4.46588e-18): result may not be accurate.\n",
      "  overwrite_a=True).T\n",
      "/usr/local/lib/python3.7/site-packages/sklearn/linear_model/ridge.py:125: LinAlgWarning: Ill-conditioned matrix (rcond=7.06255e-18): result may not be accurate.\n",
      "  overwrite_a=True).T\n"
     ]
    },
    {
     "name": "stdout",
     "output_type": "stream",
     "text": [
      "Ridge parameter 3/4 done\n"
     ]
    },
    {
     "name": "stderr",
     "output_type": "stream",
     "text": [
      "/usr/local/lib/python3.7/site-packages/sklearn/linear_model/ridge.py:125: LinAlgWarning: Ill-conditioned matrix (rcond=6.58014e-18): result may not be accurate.\n",
      "  overwrite_a=True).T\n",
      "/usr/local/lib/python3.7/site-packages/sklearn/linear_model/ridge.py:125: LinAlgWarning: Ill-conditioned matrix (rcond=6.38889e-18): result may not be accurate.\n",
      "  overwrite_a=True).T\n",
      "/usr/local/lib/python3.7/site-packages/sklearn/linear_model/ridge.py:125: LinAlgWarning: Ill-conditioned matrix (rcond=2.65676e-17): result may not be accurate.\n",
      "  overwrite_a=True).T\n",
      "/usr/local/lib/python3.7/site-packages/sklearn/linear_model/ridge.py:125: LinAlgWarning: Ill-conditioned matrix (rcond=6.69844e-18): result may not be accurate.\n",
      "  overwrite_a=True).T\n"
     ]
    },
    {
     "name": "stdout",
     "output_type": "stream",
     "text": [
      "Ridge parameter 4/4 done\n",
      "Ridge done in 1.89  seconds.\n"
     ]
    },
    {
     "name": "stderr",
     "output_type": "stream",
     "text": [
      "/usr/local/lib/python3.7/site-packages/sklearn/linear_model/coordinate_descent.py:492: ConvergenceWarning: Objective did not converge. You might want to increase the number of iterations. Fitting data with very small alpha may cause precision problems.\n",
      "  ConvergenceWarning)\n",
      "/usr/local/lib/python3.7/site-packages/sklearn/linear_model/coordinate_descent.py:492: ConvergenceWarning: Objective did not converge. You might want to increase the number of iterations. Fitting data with very small alpha may cause precision problems.\n",
      "  ConvergenceWarning)\n",
      "/usr/local/lib/python3.7/site-packages/sklearn/linear_model/coordinate_descent.py:492: ConvergenceWarning: Objective did not converge. You might want to increase the number of iterations. Fitting data with very small alpha may cause precision problems.\n",
      "  ConvergenceWarning)\n",
      "/usr/local/lib/python3.7/site-packages/sklearn/linear_model/coordinate_descent.py:492: ConvergenceWarning: Objective did not converge. You might want to increase the number of iterations. Fitting data with very small alpha may cause precision problems.\n",
      "  ConvergenceWarning)\n",
      "/usr/local/lib/python3.7/site-packages/sklearn/linear_model/coordinate_descent.py:492: ConvergenceWarning: Objective did not converge. You might want to increase the number of iterations. Fitting data with very small alpha may cause precision problems.\n",
      "  ConvergenceWarning)\n"
     ]
    },
    {
     "name": "stdout",
     "output_type": "stream",
     "text": [
      "Lasso parameter 1/4 done\n"
     ]
    },
    {
     "name": "stderr",
     "output_type": "stream",
     "text": [
      "/usr/local/lib/python3.7/site-packages/sklearn/linear_model/coordinate_descent.py:492: ConvergenceWarning: Objective did not converge. You might want to increase the number of iterations. Fitting data with very small alpha may cause precision problems.\n",
      "  ConvergenceWarning)\n"
     ]
    },
    {
     "name": "stdout",
     "output_type": "stream",
     "text": [
      "Lasso parameter 2/4 done\n"
     ]
    },
    {
     "name": "stderr",
     "output_type": "stream",
     "text": [
      "/usr/local/lib/python3.7/site-packages/sklearn/linear_model/coordinate_descent.py:492: ConvergenceWarning: Objective did not converge. You might want to increase the number of iterations. Fitting data with very small alpha may cause precision problems.\n",
      "  ConvergenceWarning)\n"
     ]
    },
    {
     "name": "stdout",
     "output_type": "stream",
     "text": [
      "Lasso parameter 3/4 done\n"
     ]
    },
    {
     "name": "stderr",
     "output_type": "stream",
     "text": [
      "/usr/local/lib/python3.7/site-packages/sklearn/linear_model/coordinate_descent.py:492: ConvergenceWarning: Objective did not converge. You might want to increase the number of iterations. Fitting data with very small alpha may cause precision problems.\n",
      "  ConvergenceWarning)\n"
     ]
    },
    {
     "name": "stdout",
     "output_type": "stream",
     "text": [
      "Lasso parameter 4/4 done\n",
      "Lasso done in 38.0  seconds.\n",
      "KNN parameter 1/8 done\n",
      "KNN parameter 2/8 done\n",
      "KNN parameter 3/8 done\n",
      "KNN parameter 4/8 done\n",
      "KNN parameter 5/8 done\n",
      "KNN parameter 6/8 done\n",
      "KNN parameter 7/8 done\n",
      "KNN parameter 8/8 done\n",
      "KNN done in 17.739  seconds.\n",
      "DecTree parameter 1/45 done\n",
      "DecTree parameter 2/45 done\n",
      "DecTree parameter 3/45 done\n",
      "DecTree parameter 4/45 done\n",
      "DecTree parameter 5/45 done\n",
      "DecTree parameter 6/45 done\n",
      "DecTree parameter 7/45 done\n",
      "DecTree parameter 8/45 done\n",
      "DecTree parameter 9/45 done\n",
      "DecTree parameter 10/45 done\n",
      "DecTree parameter 11/45 done\n",
      "DecTree parameter 12/45 done\n",
      "DecTree parameter 13/45 done\n",
      "DecTree parameter 14/45 done\n",
      "DecTree parameter 15/45 done\n",
      "DecTree parameter 16/45 done\n",
      "DecTree parameter 17/45 done\n",
      "DecTree parameter 18/45 done\n",
      "DecTree parameter 19/45 done\n",
      "DecTree parameter 20/45 done\n",
      "DecTree parameter 21/45 done\n",
      "DecTree parameter 22/45 done\n",
      "DecTree parameter 23/45 done\n",
      "DecTree parameter 24/45 done\n",
      "DecTree parameter 25/45 done\n",
      "DecTree parameter 26/45 done\n",
      "DecTree parameter 27/45 done\n",
      "DecTree parameter 28/45 done\n",
      "DecTree parameter 29/45 done\n",
      "DecTree parameter 30/45 done\n",
      "DecTree parameter 31/45 done\n",
      "DecTree parameter 32/45 done\n",
      "DecTree parameter 33/45 done\n",
      "DecTree parameter 34/45 done\n",
      "DecTree parameter 35/45 done\n",
      "DecTree parameter 36/45 done\n",
      "DecTree parameter 37/45 done\n",
      "DecTree parameter 38/45 done\n",
      "DecTree parameter 39/45 done\n",
      "DecTree parameter 40/45 done\n",
      "DecTree parameter 41/45 done\n",
      "DecTree parameter 42/45 done\n",
      "DecTree parameter 43/45 done\n",
      "DecTree parameter 44/45 done\n",
      "DecTree parameter 45/45 done\n",
      "DecTree done in 39.481  seconds.\n",
      "Forest parameter 1/4 done\n",
      "Forest parameter 2/4 done\n",
      "Forest parameter 3/4 done\n",
      "Forest parameter 4/4 done\n",
      "Forest done in 154.734  seconds.\n"
     ]
    },
    {
     "name": "stderr",
     "output_type": "stream",
     "text": [
      "/usr/local/lib/python3.7/site-packages/xgboost/core.py:587: FutureWarning: Series.base is deprecated and will be removed in a future version\n",
      "  if getattr(data, 'base', None) is not None and \\\n"
     ]
    },
    {
     "name": "stdout",
     "output_type": "stream",
     "text": [
      "XGBoost parameter 1/8 done\n",
      "XGBoost parameter 2/8 done\n",
      "XGBoost parameter 3/8 done\n",
      "XGBoost parameter 4/8 done\n",
      "XGBoost parameter 5/8 done\n",
      "XGBoost parameter 6/8 done\n",
      "XGBoost parameter 7/8 done\n",
      "XGBoost parameter 8/8 done\n",
      "XGBoost done in 157.153  seconds.\n",
      "Everything evaluated in 457.016 seconds.\n",
      "\n",
      "\n"
     ]
    }
   ],
   "source": [
    "# verbose: 0 ... no outputs, 1 ... output after a each algorithm that finished, 2 ... output after each parametersetting\n",
    "print(\"#\"*10, \"AUTO\", \"#\"*10)\n",
    "ds_AutoTrain.evaluate_all(verbose=1)  # 20-30 seconds\n",
    "\n",
    "print(\"#\"*10, \"REALESTATE\", \"#\"*10)\n",
    "ds_RealEstate.evaluate_all(verbose=1)  # 20-30 seconds\n",
    "\n",
    "print(\"#\"*10, \"BIKE\", \"#\"*10)\n",
    "#ds_BikeTrain.evaluate_all(verbose=2)  # 20-30 seconds\n",
    "\n",
    "print(\"#\"*10, \"FACEBOOK\", \"#\"*10)\n",
    "#ds_FaceBook.evaluate_all(verbose=2)  # 460 seconds"
   ]
  },
  {
   "cell_type": "code",
   "execution_count": 5,
   "metadata": {},
   "outputs": [
    {
     "ename": "AttributeError",
     "evalue": "'NoneType' object has no attribute 'Algorithm'",
     "output_type": "error",
     "traceback": [
      "\u001b[0;31m---------------------------------------------------------------------------\u001b[0m",
      "\u001b[0;31mAttributeError\u001b[0m                            Traceback (most recent call last)",
      "\u001b[0;32m<ipython-input-5-7e9faed8f745>\u001b[0m in \u001b[0;36m<module>\u001b[0;34m\u001b[0m\n\u001b[1;32m      1\u001b[0m \u001b[0mf\u001b[0m\u001b[0;34m,\u001b[0m \u001b[0maxes\u001b[0m \u001b[0;34m=\u001b[0m \u001b[0mplt\u001b[0m\u001b[0;34m.\u001b[0m\u001b[0msubplots\u001b[0m\u001b[0;34m(\u001b[0m\u001b[0;36m2\u001b[0m\u001b[0;34m,\u001b[0m \u001b[0;36m2\u001b[0m\u001b[0;34m,\u001b[0m \u001b[0mfigsize\u001b[0m\u001b[0;34m=\u001b[0m\u001b[0;34m(\u001b[0m\u001b[0;36m18\u001b[0m\u001b[0;34m,\u001b[0m \u001b[0;36m8\u001b[0m\u001b[0;34m)\u001b[0m\u001b[0;34m)\u001b[0m\u001b[0;34m\u001b[0m\u001b[0;34m\u001b[0m\u001b[0m\n\u001b[0;32m----> 2\u001b[0;31m \u001b[0mds_AutoTrain\u001b[0m\u001b[0;34m.\u001b[0m\u001b[0mboxplot_losses\u001b[0m\u001b[0;34m(\u001b[0m\u001b[0max\u001b[0m\u001b[0;34m=\u001b[0m\u001b[0maxes\u001b[0m\u001b[0;34m[\u001b[0m\u001b[0;36m0\u001b[0m\u001b[0;34m]\u001b[0m\u001b[0;34m)\u001b[0m\u001b[0;34m\u001b[0m\u001b[0;34m\u001b[0m\u001b[0m\n\u001b[0m\u001b[1;32m      3\u001b[0m \u001b[0mds_RealEstate\u001b[0m\u001b[0;34m.\u001b[0m\u001b[0mboxplot_losses\u001b[0m\u001b[0;34m(\u001b[0m\u001b[0max\u001b[0m\u001b[0;34m=\u001b[0m\u001b[0maxes\u001b[0m\u001b[0;34m[\u001b[0m\u001b[0;36m1\u001b[0m\u001b[0;34m]\u001b[0m\u001b[0;34m)\u001b[0m\u001b[0;34m\u001b[0m\u001b[0;34m\u001b[0m\u001b[0m\n\u001b[1;32m      4\u001b[0m \u001b[0mds_BikeTrain\u001b[0m\u001b[0;34m.\u001b[0m\u001b[0mboxplot_losses\u001b[0m\u001b[0;34m(\u001b[0m\u001b[0max\u001b[0m\u001b[0;34m=\u001b[0m\u001b[0maxes\u001b[0m\u001b[0;34m[\u001b[0m\u001b[0;36m2\u001b[0m\u001b[0;34m]\u001b[0m\u001b[0;34m)\u001b[0m\u001b[0;34m\u001b[0m\u001b[0;34m\u001b[0m\u001b[0m\n\u001b[1;32m      5\u001b[0m \u001b[0mds_BikeTrain\u001b[0m\u001b[0;34m.\u001b[0m\u001b[0mboxplot_losses\u001b[0m\u001b[0;34m(\u001b[0m\u001b[0max\u001b[0m\u001b[0;34m=\u001b[0m\u001b[0maxes\u001b[0m\u001b[0;34m[\u001b[0m\u001b[0;36m3\u001b[0m\u001b[0;34m]\u001b[0m\u001b[0;34m)\u001b[0m\u001b[0;34m\u001b[0m\u001b[0;34m\u001b[0m\u001b[0m\n",
      "\u001b[0;32m~/Documents/TU_Master/MachineLearning/ML_Exercise1/Exercise1/DataSetting.py\u001b[0m in \u001b[0;36mboxplot_losses\u001b[0;34m(self, ax)\u001b[0m\n\u001b[1;32m     65\u001b[0m     \u001b[0;32mdef\u001b[0m \u001b[0mboxplot_losses\u001b[0m\u001b[0;34m(\u001b[0m\u001b[0mself\u001b[0m\u001b[0;34m,\u001b[0m \u001b[0max\u001b[0m\u001b[0;34m=\u001b[0m\u001b[0;32mNone\u001b[0m\u001b[0;34m)\u001b[0m\u001b[0;34m:\u001b[0m\u001b[0;34m\u001b[0m\u001b[0;34m\u001b[0m\u001b[0m\n\u001b[1;32m     66\u001b[0m         \u001b[0mlosses_long\u001b[0m \u001b[0;34m=\u001b[0m \u001b[0mself\u001b[0m\u001b[0;34m.\u001b[0m\u001b[0mlosses_to_pandas_long\u001b[0m\u001b[0;34m(\u001b[0m\u001b[0;34m)\u001b[0m\u001b[0;34m\u001b[0m\u001b[0;34m\u001b[0m\u001b[0m\n\u001b[0;32m---> 67\u001b[0;31m         \u001b[0msns\u001b[0m\u001b[0;34m.\u001b[0m\u001b[0mboxplot\u001b[0m\u001b[0;34m(\u001b[0m\u001b[0mlosses_long\u001b[0m\u001b[0;34m.\u001b[0m\u001b[0mAlgorithm\u001b[0m\u001b[0;34m,\u001b[0m \u001b[0mlosses_long\u001b[0m\u001b[0;34m.\u001b[0m\u001b[0mLoss\u001b[0m\u001b[0;34m,\u001b[0m \u001b[0max\u001b[0m\u001b[0;34m=\u001b[0m\u001b[0max\u001b[0m\u001b[0;34m)\u001b[0m\u001b[0;34m\u001b[0m\u001b[0;34m\u001b[0m\u001b[0m\n\u001b[0m\u001b[1;32m     68\u001b[0m \u001b[0;34m\u001b[0m\u001b[0m\n\u001b[1;32m     69\u001b[0m     \u001b[0;32mdef\u001b[0m \u001b[0mbarplot_losses_min\u001b[0m\u001b[0;34m(\u001b[0m\u001b[0mself\u001b[0m\u001b[0;34m)\u001b[0m\u001b[0;34m:\u001b[0m\u001b[0;34m\u001b[0m\u001b[0;34m\u001b[0m\u001b[0m\n",
      "\u001b[0;31mAttributeError\u001b[0m: 'NoneType' object has no attribute 'Algorithm'"
     ]
    },
    {
     "data": {
      "image/png": "[encoded data removed]",
      "text/plain": [
       "<Figure size 1296x576 with 4 Axes>"
      ]
     },
     "metadata": {
      "needs_background": "light"
     },
     "output_type": "display_data"
    }
   ],
   "source": [
    "f, axes = plt.subplots(2, 2, figsize=(18, 8))\n",
    "ds_AutoTrain.boxplot_losses(ax=axes[0])\n",
    "ds_RealEstate.boxplot_losses(ax=axes[1])\n",
    "#ds_BikeTrain.boxplot_losses(ax=axes[2])\n",
    "#ds_BikeTrain.boxplot_losses(ax=axes[3])"
   ]
  },
  {
   "cell_type": "code",
   "execution_count": null,
   "metadata": {},
   "outputs": [],
   "source": []
  }
 ],
 "metadata": {
  "kernelspec": {
   "display_name": "Python 3",
   "language": "python",
   "name": "python3"
  },
  "language_info": {
   "codemirror_mode": {
    "name": "ipython",
    "version": 3
   },
   "file_extension": ".py",
   "mimetype": "text/x-python",
   "name": "python",
   "nbconvert_exporter": "python",
   "pygments_lexer": "ipython3",
   "version": "3.7.2"
  }
 },
 "nbformat": 4,
 "nbformat_minor": 2
}
