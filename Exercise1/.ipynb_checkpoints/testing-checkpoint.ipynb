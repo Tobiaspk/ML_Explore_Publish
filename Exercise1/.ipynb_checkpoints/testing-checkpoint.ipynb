{
 "cells": [
  {
   "cell_type": "code",
   "execution_count": 1,
   "metadata": {},
   "outputs": [
    {
     "name": "stdout",
     "output_type": "stream",
     "text": [
      "Models loaded succesfully on variable 'models'\n",
      "Reduced Models loaded succesfully on variable 'models_reduced'\n"
     ]
    }
   ],
   "source": [
    "import numpy as np\n",
    "import pandas as pd\n",
    "import seaborn as sns\n",
    "import matplotlib.pyplot as plt\n",
    "from DataSetting import *\n",
    "from Regressor import * \n",
    "from HelpFunctions import *\n",
    "from DefineModels import * \n",
    "from DefineModelsReduced import * \n",
    "from copy import deepcopy\n",
    "\n",
    "## Read Data\n",
    "AutoTrain = pd.read_csv(\"datasets/AutoTrain.csv\", na_values=\"?\")\n",
    "RealEstate = pd.read_csv(\"datasets/RealEstate.csv\")\n",
    "BikeTrain = pd.read_csv(\"datasets/BikeTrain.csv\")\n",
    "Facebook = pd.read_csv(\"datasets/Facebook.csv\", header = None)\n",
    "\n",
    "\n",
    "## EVALUATE AUTO TRAIN\n",
    "AutoTrain.horsepower = AutoTrain.horsepower.fillna(AutoTrain.horsepower.mean())"
   ]
  },
  {
   "cell_type": "code",
   "execution_count": 2,
   "metadata": {
    "scrolled": false
   },
   "outputs": [],
   "source": [
    "## DATA SETTINGS\n",
    "\n",
    "### SMALL DATASETS\n",
    "## AUTOS\n",
    "ds_AutoTrain = DataSetting(y=AutoTrain[\"mpg\"],\n",
    "                           x=AutoTrain.drop([\"id\", \"mpg\", \"carName\"], 1),\n",
    "                           models=deepcopy(models),\n",
    "                           loss_function=rmse,\n",
    "                           k=5)\n",
    "\n",
    "## REALESTATE\n",
    "ds_RealEstate = DataSetting(y = RealEstate[\"Y house price of unit area\"],\n",
    "                            x = RealEstate.drop(columns = [\"Y house price of unit area\"]),\n",
    "                            models = deepcopy(models),\n",
    "                            loss_function= rmse,\n",
    "                            k = 5)\n",
    "\n",
    "### BIG DATASETS\n",
    "## BIKE\n",
    "ds_BikeTrain = DataSetting(y= BikeTrain[\"cnt\"],\n",
    "                           x = BikeTrain.drop([\"id\", \"cnt\", \"dteday\"], 1),\n",
    "                           models = deepcopy(models_reduced),\n",
    "                           loss_function = rmse,\n",
    "                           k = 5)\n",
    "\n",
    "## FACEBOOK\n",
    "ds_FaceBook = DataSetting(y = Facebook.iloc[:,53],\n",
    "                          x = Facebook.drop(columns = [53]),\n",
    "                          models = deepcopy(models_reduced),\n",
    "                          loss_function= rmse,\n",
    "                          k=5)"
   ]
  },
  {
   "cell_type": "code",
   "execution_count": 3,
   "metadata": {},
   "outputs": [],
   "source": [
    "# RUN MODELS"
   ]
  },
  {
   "cell_type": "code",
   "execution_count": 8,
   "metadata": {
    "scrolled": true
   },
   "outputs": [
    {
     "name": "stdout",
     "output_type": "stream",
     "text": [
      "########## AUTO ##########\n",
      "OLS done in 0.034  seconds.\n",
      "ThSen done in 6.257  seconds.\n",
      "Huber done in 1.0  seconds.\n",
      "Ridge done in 0.131  seconds.\n",
      "Lasso done in 0.124  seconds.\n",
      "KNN done in 0.202  seconds.\n",
      "DecTree done in 1.084  seconds.\n",
      "Forest done in 9.086  seconds.\n"
     ]
    },
    {
     "name": "stderr",
     "output_type": "stream",
     "text": [
      "/usr/local/lib/python3.7/site-packages/xgboost/core.py:587: FutureWarning: Series.base is deprecated and will be removed in a future version\n",
      "  if getattr(data, 'base', None) is not None and \\\n"
     ]
    },
    {
     "name": "stdout",
     "output_type": "stream",
     "text": [
      "XGBoost done in 7.024  seconds.\n",
      "Everything evaluated in 24.946 seconds.\n",
      "\n",
      "\n",
      "########## REALESTATE ##########\n",
      "OLS done in 0.029  seconds.\n",
      "ThSen done in 5.955  seconds.\n",
      "Huber done in 0.82  seconds.\n",
      "Ridge done in 0.103  seconds.\n",
      "Lasso done in 0.109  seconds.\n",
      "KNN done in 0.169  seconds.\n",
      "DecTree done in 0.918  seconds.\n",
      "Forest done in 9.997  seconds.\n"
     ]
    },
    {
     "name": "stderr",
     "output_type": "stream",
     "text": [
      "/usr/local/lib/python3.7/site-packages/xgboost/core.py:587: FutureWarning: Series.base is deprecated and will be removed in a future version\n",
      "  if getattr(data, 'base', None) is not None and \\\n"
     ]
    },
    {
     "name": "stdout",
     "output_type": "stream",
     "text": [
      "XGBoost done in 10.54  seconds.\n",
      "Everything evaluated in 28.642 seconds.\n",
      "\n",
      "\n",
      "########## BIKE ##########\n",
      "OLS parameter 1/1 done\n",
      "OLS done in 0.04  seconds.\n",
      "Huber parameter 1/6 done\n",
      "Huber parameter 2/6 done\n",
      "Huber parameter 3/6 done\n",
      "Huber parameter 4/6 done\n",
      "Huber parameter 5/6 done\n",
      "Huber parameter 6/6 done\n",
      "Huber done in 3.205  seconds.\n",
      "Ridge parameter 1/4 done\n",
      "Ridge parameter 2/4 done\n",
      "Ridge parameter 3/4 done\n",
      "Ridge parameter 4/4 done\n",
      "Ridge done in 0.136  seconds.\n",
      "Lasso parameter 1/4 done\n",
      "Lasso parameter 2/4 done\n",
      "Lasso parameter 3/4 done\n",
      "Lasso parameter 4/4 done\n",
      "Lasso done in 0.142  seconds.\n",
      "KNN parameter 1/8 done\n",
      "KNN parameter 2/8 done\n",
      "KNN parameter 3/8 done\n",
      "KNN parameter 4/8 done\n",
      "KNN parameter 5/8 done\n",
      "KNN parameter 6/8 done\n",
      "KNN parameter 7/8 done\n",
      "KNN parameter 8/8 done\n",
      "KNN done in 1.201  seconds.\n",
      "DecTree parameter 1/45 done\n",
      "DecTree parameter 2/45 done\n",
      "DecTree parameter 3/45 done\n",
      "DecTree parameter 4/45 done\n",
      "DecTree parameter 5/45 done\n",
      "DecTree parameter 6/45 done\n",
      "DecTree parameter 7/45 done\n",
      "DecTree parameter 8/45 done\n",
      "DecTree parameter 9/45 done\n",
      "DecTree parameter 10/45 done\n",
      "DecTree parameter 11/45 done\n",
      "DecTree parameter 12/45 done\n",
      "DecTree parameter 13/45 done\n",
      "DecTree parameter 14/45 done\n",
      "DecTree parameter 15/45 done\n",
      "DecTree parameter 16/45 done\n",
      "DecTree parameter 17/45 done\n",
      "DecTree parameter 18/45 done\n",
      "DecTree parameter 19/45 done\n",
      "DecTree parameter 20/45 done\n",
      "DecTree parameter 21/45 done\n",
      "DecTree parameter 22/45 done\n",
      "DecTree parameter 23/45 done\n",
      "DecTree parameter 24/45 done\n",
      "DecTree parameter 25/45 done\n",
      "DecTree parameter 26/45 done\n",
      "DecTree parameter 27/45 done\n",
      "DecTree parameter 28/45 done\n",
      "DecTree parameter 29/45 done\n",
      "DecTree parameter 30/45 done\n",
      "DecTree parameter 31/45 done\n",
      "DecTree parameter 32/45 done\n",
      "DecTree parameter 33/45 done\n",
      "DecTree parameter 34/45 done\n",
      "DecTree parameter 35/45 done\n",
      "DecTree parameter 36/45 done\n",
      "DecTree parameter 37/45 done\n",
      "DecTree parameter 38/45 done\n",
      "DecTree parameter 39/45 done\n",
      "DecTree parameter 40/45 done\n",
      "DecTree parameter 41/45 done\n",
      "DecTree parameter 42/45 done\n",
      "DecTree parameter 43/45 done\n",
      "DecTree parameter 44/45 done\n",
      "DecTree parameter 45/45 done\n",
      "DecTree done in 3.461  seconds.\n",
      "Forest parameter 1/4 done\n",
      "Forest parameter 2/4 done\n",
      "Forest parameter 3/4 done\n",
      "Forest parameter 4/4 done\n",
      "Forest done in 7.141  seconds.\n"
     ]
    },
    {
     "name": "stderr",
     "output_type": "stream",
     "text": [
      "/usr/local/lib/python3.7/site-packages/xgboost/core.py:587: FutureWarning: Series.base is deprecated and will be removed in a future version\n",
      "  if getattr(data, 'base', None) is not None and \\\n"
     ]
    },
    {
     "name": "stdout",
     "output_type": "stream",
     "text": [
      "XGBoost parameter 1/8 done\n",
      "XGBoost parameter 2/8 done\n",
      "XGBoost parameter 3/8 done\n",
      "XGBoost parameter 4/8 done\n",
      "XGBoost parameter 5/8 done\n",
      "XGBoost parameter 6/8 done\n",
      "XGBoost parameter 7/8 done\n",
      "XGBoost parameter 8/8 done\n",
      "XGBoost done in 9.788  seconds.\n",
      "Everything evaluated in 25.116 seconds.\n",
      "\n",
      "\n",
      "########## FACEBOOK ##########\n",
      "OLS parameter 1/1 done\n",
      "OLS done in 0.681  seconds.\n",
      "Huber parameter 1/6 done\n",
      "Huber parameter 2/6 done\n",
      "Huber parameter 3/6 done\n",
      "Huber parameter 4/6 done\n",
      "Huber parameter 5/6 done\n",
      "Huber parameter 6/6 done\n",
      "Huber done in 41.057  seconds.\n"
     ]
    },
    {
     "name": "stderr",
     "output_type": "stream",
     "text": [
      "/usr/local/lib/python3.7/site-packages/sklearn/linear_model/ridge.py:125: LinAlgWarning: Ill-conditioned matrix (rcond=1.18112e-18): result may not be accurate.\n",
      "  overwrite_a=True).T\n",
      "/usr/local/lib/python3.7/site-packages/sklearn/linear_model/ridge.py:125: LinAlgWarning: Ill-conditioned matrix (rcond=1.10027e-18): result may not be accurate.\n",
      "  overwrite_a=True).T\n",
      "/usr/local/lib/python3.7/site-packages/sklearn/linear_model/ridge.py:125: LinAlgWarning: Ill-conditioned matrix (rcond=1.06845e-18): result may not be accurate.\n",
      "  overwrite_a=True).T\n",
      "/usr/local/lib/python3.7/site-packages/sklearn/linear_model/ridge.py:125: LinAlgWarning: Ill-conditioned matrix (rcond=4.44302e-18): result may not be accurate.\n",
      "  overwrite_a=True).T\n",
      "/usr/local/lib/python3.7/site-packages/sklearn/linear_model/ridge.py:125: LinAlgWarning: Ill-conditioned matrix (rcond=1.11657e-18): result may not be accurate.\n",
      "  overwrite_a=True).T\n",
      "/usr/local/lib/python3.7/site-packages/sklearn/linear_model/ridge.py:125: LinAlgWarning: Ill-conditioned matrix (rcond=2.36061e-18): result may not be accurate.\n",
      "  overwrite_a=True).T\n",
      "/usr/local/lib/python3.7/site-packages/sklearn/linear_model/ridge.py:125: LinAlgWarning: Ill-conditioned matrix (rcond=2.19909e-18): result may not be accurate.\n",
      "  overwrite_a=True).T\n",
      "/usr/local/lib/python3.7/site-packages/sklearn/linear_model/ridge.py:125: LinAlgWarning: Ill-conditioned matrix (rcond=2.13543e-18): result may not be accurate.\n",
      "  overwrite_a=True).T\n"
     ]
    },
    {
     "name": "stdout",
     "output_type": "stream",
     "text": [
      "Ridge parameter 1/4 done\n"
     ]
    },
    {
     "name": "stderr",
     "output_type": "stream",
     "text": [
      "/usr/local/lib/python3.7/site-packages/sklearn/linear_model/ridge.py:125: LinAlgWarning: Ill-conditioned matrix (rcond=8.87996e-18): result may not be accurate.\n",
      "  overwrite_a=True).T\n",
      "/usr/local/lib/python3.7/site-packages/sklearn/linear_model/ridge.py:125: LinAlgWarning: Ill-conditioned matrix (rcond=2.23307e-18): result may not be accurate.\n",
      "  overwrite_a=True).T\n",
      "/usr/local/lib/python3.7/site-packages/sklearn/linear_model/ridge.py:125: LinAlgWarning: Ill-conditioned matrix (rcond=4.71476e-18): result may not be accurate.\n",
      "  overwrite_a=True).T\n",
      "/usr/local/lib/python3.7/site-packages/sklearn/linear_model/ridge.py:125: LinAlgWarning: Ill-conditioned matrix (rcond=4.39245e-18): result may not be accurate.\n",
      "  overwrite_a=True).T\n"
     ]
    },
    {
     "name": "stdout",
     "output_type": "stream",
     "text": [
      "Ridge parameter 2/4 done\n"
     ]
    },
    {
     "name": "stderr",
     "output_type": "stream",
     "text": [
      "/usr/local/lib/python3.7/site-packages/sklearn/linear_model/ridge.py:125: LinAlgWarning: Ill-conditioned matrix (rcond=4.26503e-18): result may not be accurate.\n",
      "  overwrite_a=True).T\n",
      "/usr/local/lib/python3.7/site-packages/sklearn/linear_model/ridge.py:125: LinAlgWarning: Ill-conditioned matrix (rcond=1.77357e-17): result may not be accurate.\n",
      "  overwrite_a=True).T\n",
      "/usr/local/lib/python3.7/site-packages/sklearn/linear_model/ridge.py:125: LinAlgWarning: Ill-conditioned matrix (rcond=4.46588e-18): result may not be accurate.\n",
      "  overwrite_a=True).T\n",
      "/usr/local/lib/python3.7/site-packages/sklearn/linear_model/ridge.py:125: LinAlgWarning: Ill-conditioned matrix (rcond=7.06255e-18): result may not be accurate.\n",
      "  overwrite_a=True).T\n"
     ]
    },
    {
     "name": "stdout",
     "output_type": "stream",
     "text": [
      "Ridge parameter 3/4 done\n"
     ]
    },
    {
     "name": "stderr",
     "output_type": "stream",
     "text": [
      "/usr/local/lib/python3.7/site-packages/sklearn/linear_model/ridge.py:125: LinAlgWarning: Ill-conditioned matrix (rcond=6.58014e-18): result may not be accurate.\n",
      "  overwrite_a=True).T\n",
      "/usr/local/lib/python3.7/site-packages/sklearn/linear_model/ridge.py:125: LinAlgWarning: Ill-conditioned matrix (rcond=6.38889e-18): result may not be accurate.\n",
      "  overwrite_a=True).T\n",
      "/usr/local/lib/python3.7/site-packages/sklearn/linear_model/ridge.py:125: LinAlgWarning: Ill-conditioned matrix (rcond=2.65676e-17): result may not be accurate.\n",
      "  overwrite_a=True).T\n",
      "/usr/local/lib/python3.7/site-packages/sklearn/linear_model/ridge.py:125: LinAlgWarning: Ill-conditioned matrix (rcond=6.69844e-18): result may not be accurate.\n",
      "  overwrite_a=True).T\n"
     ]
    },
    {
     "name": "stdout",
     "output_type": "stream",
     "text": [
      "Ridge parameter 4/4 done\n",
      "Ridge done in 1.183  seconds.\n"
     ]
    },
    {
     "name": "stderr",
     "output_type": "stream",
     "text": [
      "/usr/local/lib/python3.7/site-packages/sklearn/linear_model/coordinate_descent.py:492: ConvergenceWarning: Objective did not converge. You might want to increase the number of iterations. Fitting data with very small alpha may cause precision problems.\n",
      "  ConvergenceWarning)\n",
      "/usr/local/lib/python3.7/site-packages/sklearn/linear_model/coordinate_descent.py:492: ConvergenceWarning: Objective did not converge. You might want to increase the number of iterations. Fitting data with very small alpha may cause precision problems.\n",
      "  ConvergenceWarning)\n",
      "/usr/local/lib/python3.7/site-packages/sklearn/linear_model/coordinate_descent.py:492: ConvergenceWarning: Objective did not converge. You might want to increase the number of iterations. Fitting data with very small alpha may cause precision problems.\n",
      "  ConvergenceWarning)\n",
      "/usr/local/lib/python3.7/site-packages/sklearn/linear_model/coordinate_descent.py:492: ConvergenceWarning: Objective did not converge. You might want to increase the number of iterations. Fitting data with very small alpha may cause precision problems.\n",
      "  ConvergenceWarning)\n",
      "/usr/local/lib/python3.7/site-packages/sklearn/linear_model/coordinate_descent.py:492: ConvergenceWarning: Objective did not converge. You might want to increase the number of iterations. Fitting data with very small alpha may cause precision problems.\n",
      "  ConvergenceWarning)\n"
     ]
    },
    {
     "name": "stdout",
     "output_type": "stream",
     "text": [
      "Lasso parameter 1/4 done\n"
     ]
    },
    {
     "name": "stderr",
     "output_type": "stream",
     "text": [
      "/usr/local/lib/python3.7/site-packages/sklearn/linear_model/coordinate_descent.py:492: ConvergenceWarning: Objective did not converge. You might want to increase the number of iterations. Fitting data with very small alpha may cause precision problems.\n",
      "  ConvergenceWarning)\n"
     ]
    },
    {
     "name": "stdout",
     "output_type": "stream",
     "text": [
      "Lasso parameter 2/4 done\n"
     ]
    },
    {
     "name": "stderr",
     "output_type": "stream",
     "text": [
      "/usr/local/lib/python3.7/site-packages/sklearn/linear_model/coordinate_descent.py:492: ConvergenceWarning: Objective did not converge. You might want to increase the number of iterations. Fitting data with very small alpha may cause precision problems.\n",
      "  ConvergenceWarning)\n"
     ]
    },
    {
     "name": "stdout",
     "output_type": "stream",
     "text": [
      "Lasso parameter 3/4 done\n"
     ]
    },
    {
     "name": "stderr",
     "output_type": "stream",
     "text": [
      "/usr/local/lib/python3.7/site-packages/sklearn/linear_model/coordinate_descent.py:492: ConvergenceWarning: Objective did not converge. You might want to increase the number of iterations. Fitting data with very small alpha may cause precision problems.\n",
      "  ConvergenceWarning)\n"
     ]
    },
    {
     "name": "stdout",
     "output_type": "stream",
     "text": [
      "Lasso parameter 4/4 done\n",
      "Lasso done in 38.428  seconds.\n",
      "KNN parameter 1/8 done\n",
      "KNN parameter 2/8 done\n",
      "KNN parameter 3/8 done\n",
      "KNN parameter 4/8 done\n",
      "KNN parameter 5/8 done\n",
      "KNN parameter 6/8 done\n",
      "KNN parameter 7/8 done\n",
      "KNN parameter 8/8 done\n",
      "KNN done in 18.607  seconds.\n",
      "DecTree parameter 1/45 done\n",
      "DecTree parameter 2/45 done\n",
      "DecTree parameter 3/45 done\n",
      "DecTree parameter 4/45 done\n",
      "DecTree parameter 5/45 done\n",
      "DecTree parameter 6/45 done\n",
      "DecTree parameter 7/45 done\n",
      "DecTree parameter 8/45 done\n",
      "DecTree parameter 9/45 done\n",
      "DecTree parameter 10/45 done\n",
      "DecTree parameter 11/45 done\n",
      "DecTree parameter 12/45 done\n",
      "DecTree parameter 13/45 done\n",
      "DecTree parameter 14/45 done\n",
      "DecTree parameter 15/45 done\n",
      "DecTree parameter 16/45 done\n",
      "DecTree parameter 17/45 done\n",
      "DecTree parameter 18/45 done\n",
      "DecTree parameter 19/45 done\n",
      "DecTree parameter 20/45 done\n",
      "DecTree parameter 21/45 done\n",
      "DecTree parameter 22/45 done\n",
      "DecTree parameter 23/45 done\n",
      "DecTree parameter 24/45 done\n",
      "DecTree parameter 25/45 done\n",
      "DecTree parameter 26/45 done\n",
      "DecTree parameter 27/45 done\n",
      "DecTree parameter 28/45 done\n",
      "DecTree parameter 29/45 done\n",
      "DecTree parameter 30/45 done\n",
      "DecTree parameter 31/45 done\n",
      "DecTree parameter 32/45 done\n",
      "DecTree parameter 33/45 done\n",
      "DecTree parameter 34/45 done\n",
      "DecTree parameter 35/45 done\n",
      "DecTree parameter 36/45 done\n",
      "DecTree parameter 37/45 done\n",
      "DecTree parameter 38/45 done\n",
      "DecTree parameter 39/45 done\n",
      "DecTree parameter 40/45 done\n",
      "DecTree parameter 41/45 done\n",
      "DecTree parameter 42/45 done\n",
      "DecTree parameter 43/45 done\n",
      "DecTree parameter 44/45 done\n",
      "DecTree parameter 45/45 done\n",
      "DecTree done in 38.705  seconds.\n",
      "Forest parameter 1/4 done\n",
      "Forest parameter 2/4 done\n",
      "Forest parameter 3/4 done\n",
      "Forest parameter 4/4 done\n",
      "Forest done in 160.326  seconds.\n"
     ]
    },
    {
     "name": "stderr",
     "output_type": "stream",
     "text": [
      "/usr/local/lib/python3.7/site-packages/xgboost/core.py:587: FutureWarning: Series.base is deprecated and will be removed in a future version\n",
      "  if getattr(data, 'base', None) is not None and \\\n"
     ]
    },
    {
     "name": "stdout",
     "output_type": "stream",
     "text": [
      "XGBoost parameter 1/8 done\n",
      "XGBoost parameter 2/8 done\n",
      "XGBoost parameter 3/8 done\n",
      "XGBoost parameter 4/8 done\n",
      "XGBoost parameter 5/8 done\n",
      "XGBoost parameter 6/8 done\n",
      "XGBoost parameter 7/8 done\n",
      "XGBoost parameter 8/8 done\n",
      "XGBoost done in 152.633  seconds.\n",
      "Everything evaluated in 451.622 seconds.\n",
      "\n",
      "\n"
     ]
    }
   ],
   "source": [
    "# verbose: 0 ... no outputs, 1 ... output after a each algorithm that finished, 2 ... output after each parametersetting\n",
    "print(\"#\"*10, \"AUTO\", \"#\"*10)\n",
    "ds_AutoTrain.evaluate_all(verbose=1)  # 20-30 seconds\n",
    "\n",
    "print(\"#\"*10, \"REALESTATE\", \"#\"*10)\n",
    "ds_RealEstate.evaluate_all(verbose=1)  # 20-30 seconds\n",
    "\n",
    "print(\"#\"*10, \"BIKE\", \"#\"*10)\n",
    "ds_BikeTrain.evaluate_all(verbose=2)  # 160 seconds\n",
    "\n",
    "print(\"#\"*10, \"FACEBOOK\", \"#\"*10)\n",
    "ds_FaceBook.evaluate_all(verbose=2)  # 460 seconds"
   ]
  },
  {
   "cell_type": "code",
   "execution_count": 14,
   "metadata": {},
   "outputs": [
    {
     "data": {
      "text/plain": [
       "Text(0.5, 1.0, 'jo')"
      ]
     },
     "execution_count": 14,
     "metadata": {},
     "output_type": "execute_result"
    },
    {
     "data": {
      "image/png": "[encoded data removed]",
      "text/plain": [
       "<Figure size 1296x576 with 4 Axes>"
      ]
     },
     "metadata": {
      "needs_background": "light"
     },
     "output_type": "display_data"
    }
   ],
   "source": [
    "f, axes = plt.subplots(2, 2, figsize=(18, 8))\n",
    "ds_AutoTrain.boxplot_losses(ax=axes[0][0])\n",
    "ds_RealEstate.boxplot_losses(ax=axes[0][1])\n",
    "ds_BikeTrain.boxplot_losses(ax=axes[1][0])\n",
    "ds_FaceBook.boxplot_losses(ax=axes[1][1])"
   ]
  },
  {
   "cell_type": "code",
   "execution_count": 12,
   "metadata": {},
   "outputs": [
    {
     "data": {
      "image/png": "[encoded data removed]",
      "text/plain": [
       "<Figure size 1296x576 with 4 Axes>"
      ]
     },
     "metadata": {
      "needs_background": "light"
     },
     "output_type": "display_data"
    }
   ],
   "source": [
    "f, axes = plt.subplots(2, 2, figsize=(18, 8))\n",
    "ds_AutoTrain.boxplot_losses_min(ax=axes[0][0])\n",
    "ds_RealEstate.boxplot_losses_min(ax=axes[0][1])\n",
    "ds_BikeTrain.boxplot_losses_min(ax=axes[1][0])\n",
    "ds_FaceBook.boxplot_losses_min(ax=axes[1][1])"
   ]
  },
  {
   "cell_type": "code",
   "execution_count": 13,
   "metadata": {},
   "outputs": [
    {
     "data": {
      "image/png": "[encoded data removed]",
      "text/plain": [
       "<Figure size 1296x576 with 4 Axes>"
      ]
     },
     "metadata": {
      "needs_background": "light"
     },
     "output_type": "display_data"
    }
   ],
   "source": [
    "f, axes = plt.subplots(2, 2, figsize=(18, 8))\n",
    "ds_AutoTrain.barplot_losses_min(ax=axes[0][0])\n",
    "ds_RealEstate.barplot_losses_min(ax=axes[0][1])\n",
    "ds_BikeTrain.barplot_losses_min(ax=axes[1][0])\n",
    "ds_FaceBook.barplot_losses_min(ax=axes[1][1])"
   ]
  },
  {
   "cell_type": "code",
   "execution_count": 21,
   "metadata": {},
   "outputs": [
    {
     "data": {
      "image/png": "[encoded data removed]",
      "text/plain": [
       "<Figure size 432x288 with 1 Axes>"
      ]
     },
     "metadata": {
      "needs_background": "light"
     },
     "output_type": "display_data"
    }
   ],
   "source": [
    "ds_RealEstate.barplot_losses_min()"
   ]
  },
  {
   "cell_type": "code",
   "execution_count": 15,
   "metadata": {},
   "outputs": [
    {
     "data": {
      "image/png": "[encoded data removed]",
      "text/plain": [
       "<Figure size 432x288 with 1 Axes>"
      ]
     },
     "metadata": {
      "needs_background": "light"
     },
     "output_type": "display_data"
    }
   ],
   "source": [
    "ds_FaceBook.barplot_losses_min()"
   ]
  },
  {
   "cell_type": "code",
   "execution_count": 16,
   "metadata": {},
   "outputs": [
    {
     "data": {
      "image/png": "[encoded data removed]",
      "text/plain": [
       "<Figure size 432x288 with 1 Axes>"
      ]
     },
     "metadata": {
      "needs_background": "light"
     },
     "output_type": "display_data"
    }
   ],
   "source": [
    "ds_BikeTrain.barplot_losses_min()"
   ]
  },
  {
   "cell_type": "code",
   "execution_count": 24,
   "metadata": {},
   "outputs": [
    {
     "data": {
      "text/html": [
       "<div>\n",
       "<style scoped>\n",
       "    .dataframe tbody tr th:only-of-type {\n",
       "        vertical-align: middle;\n",
       "    }\n",
       "\n",
       "    .dataframe tbody tr th {\n",
       "        vertical-align: top;\n",
       "    }\n",
       "\n",
       "    .dataframe thead th {\n",
       "        text-align: right;\n",
       "    }\n",
       "</style>\n",
       "<table border=\"1\" class=\"dataframe\">\n",
       "  <thead>\n",
       "    <tr style=\"text-align: right;\">\n",
       "      <th></th>\n",
       "      <th>Algorithm</th>\n",
       "      <th>Losses</th>\n",
       "      <th>LossesMean</th>\n",
       "      <th>LossesSD</th>\n",
       "      <th>Parameters</th>\n",
       "    </tr>\n",
       "  </thead>\n",
       "  <tbody>\n",
       "    <tr>\n",
       "      <th>0</th>\n",
       "      <td>OLS</td>\n",
       "      <td>[31.619, 29.233, 31.615, 39.463, 22.92]</td>\n",
       "      <td>30.970</td>\n",
       "      <td>5.306</td>\n",
       "      <td>{}</td>\n",
       "    </tr>\n",
       "    <tr>\n",
       "      <th>1</th>\n",
       "      <td>Huber</td>\n",
       "      <td>[40.145, 35.127, 36.037, 39.083, 26.04]</td>\n",
       "      <td>35.286</td>\n",
       "      <td>4.982</td>\n",
       "      <td>{'epsilon': 1.0}</td>\n",
       "    </tr>\n",
       "    <tr>\n",
       "      <th>2</th>\n",
       "      <td>Huber</td>\n",
       "      <td>[38.413, 32.433, 36.201, 35.719, 27.774]</td>\n",
       "      <td>34.108</td>\n",
       "      <td>3.700</td>\n",
       "      <td>{'epsilon': 1.2}</td>\n",
       "    </tr>\n",
       "    <tr>\n",
       "      <th>3</th>\n",
       "      <td>Huber</td>\n",
       "      <td>[40.108, 33.87, 36.582, 39.655, 26.162]</td>\n",
       "      <td>35.276</td>\n",
       "      <td>5.085</td>\n",
       "      <td>{'epsilon': 1.4}</td>\n",
       "    </tr>\n",
       "    <tr>\n",
       "      <th>4</th>\n",
       "      <td>Huber</td>\n",
       "      <td>[37.764, 33.863, 38.256, 35.701, 26.118]</td>\n",
       "      <td>34.340</td>\n",
       "      <td>4.399</td>\n",
       "      <td>{'epsilon': 1.6}</td>\n",
       "    </tr>\n",
       "  </tbody>\n",
       "</table>\n",
       "</div>"
      ],
      "text/plain": [
       "  Algorithm                                    Losses  LossesMean  LossesSD  \\\n",
       "0       OLS   [31.619, 29.233, 31.615, 39.463, 22.92]      30.970     5.306   \n",
       "1     Huber   [40.145, 35.127, 36.037, 39.083, 26.04]      35.286     4.982   \n",
       "2     Huber  [38.413, 32.433, 36.201, 35.719, 27.774]      34.108     3.700   \n",
       "3     Huber   [40.108, 33.87, 36.582, 39.655, 26.162]      35.276     5.085   \n",
       "4     Huber  [37.764, 33.863, 38.256, 35.701, 26.118]      34.340     4.399   \n",
       "\n",
       "         Parameters  \n",
       "0                {}  \n",
       "1  {'epsilon': 1.0}  \n",
       "2  {'epsilon': 1.2}  \n",
       "3  {'epsilon': 1.4}  \n",
       "4  {'epsilon': 1.6}  "
      ]
     },
     "execution_count": 24,
     "metadata": {},
     "output_type": "execute_result"
    }
   ],
   "source": [
    "ds_BikeTrain.losses_to_pandas().head()"
   ]
  },
  {
   "cell_type": "code",
   "execution_count": 25,
   "metadata": {},
   "outputs": [
    {
     "data": {
      "text/html": [
       "<div>\n",
       "<style scoped>\n",
       "    .dataframe tbody tr th:only-of-type {\n",
       "        vertical-align: middle;\n",
       "    }\n",
       "\n",
       "    .dataframe tbody tr th {\n",
       "        vertical-align: top;\n",
       "    }\n",
       "\n",
       "    .dataframe thead th {\n",
       "        text-align: right;\n",
       "    }\n",
       "</style>\n",
       "<table border=\"1\" class=\"dataframe\">\n",
       "  <thead>\n",
       "    <tr style=\"text-align: right;\">\n",
       "      <th></th>\n",
       "      <th>Algorithm</th>\n",
       "      <th>Losses</th>\n",
       "      <th>LossesMean</th>\n",
       "      <th>LossesSD</th>\n",
       "      <th>Parameters</th>\n",
       "    </tr>\n",
       "  </thead>\n",
       "  <tbody>\n",
       "    <tr>\n",
       "      <th>0</th>\n",
       "      <td>OLS</td>\n",
       "      <td>[31.619, 29.233, 31.615, 39.463, 22.92]</td>\n",
       "      <td>30.970</td>\n",
       "      <td>5.306</td>\n",
       "      <td>{}</td>\n",
       "    </tr>\n",
       "    <tr>\n",
       "      <th>1</th>\n",
       "      <td>Huber</td>\n",
       "      <td>[40.145, 35.127, 36.037, 39.083, 26.04]</td>\n",
       "      <td>35.286</td>\n",
       "      <td>4.982</td>\n",
       "      <td>{'epsilon': 1.0}</td>\n",
       "    </tr>\n",
       "    <tr>\n",
       "      <th>2</th>\n",
       "      <td>Huber</td>\n",
       "      <td>[38.413, 32.433, 36.201, 35.719, 27.774]</td>\n",
       "      <td>34.108</td>\n",
       "      <td>3.700</td>\n",
       "      <td>{'epsilon': 1.2}</td>\n",
       "    </tr>\n",
       "    <tr>\n",
       "      <th>3</th>\n",
       "      <td>Huber</td>\n",
       "      <td>[40.108, 33.87, 36.582, 39.655, 26.162]</td>\n",
       "      <td>35.276</td>\n",
       "      <td>5.085</td>\n",
       "      <td>{'epsilon': 1.4}</td>\n",
       "    </tr>\n",
       "    <tr>\n",
       "      <th>4</th>\n",
       "      <td>Huber</td>\n",
       "      <td>[37.764, 33.863, 38.256, 35.701, 26.118]</td>\n",
       "      <td>34.340</td>\n",
       "      <td>4.399</td>\n",
       "      <td>{'epsilon': 1.6}</td>\n",
       "    </tr>\n",
       "  </tbody>\n",
       "</table>\n",
       "</div>"
      ],
      "text/plain": [
       "  Algorithm                                    Losses  LossesMean  LossesSD  \\\n",
       "0       OLS   [31.619, 29.233, 31.615, 39.463, 22.92]      30.970     5.306   \n",
       "1     Huber   [40.145, 35.127, 36.037, 39.083, 26.04]      35.286     4.982   \n",
       "2     Huber  [38.413, 32.433, 36.201, 35.719, 27.774]      34.108     3.700   \n",
       "3     Huber   [40.108, 33.87, 36.582, 39.655, 26.162]      35.276     5.085   \n",
       "4     Huber  [37.764, 33.863, 38.256, 35.701, 26.118]      34.340     4.399   \n",
       "\n",
       "         Parameters  \n",
       "0                {}  \n",
       "1  {'epsilon': 1.0}  \n",
       "2  {'epsilon': 1.2}  \n",
       "3  {'epsilon': 1.4}  \n",
       "4  {'epsilon': 1.6}  "
      ]
     },
     "execution_count": 25,
     "metadata": {},
     "output_type": "execute_result"
    }
   ],
   "source": [
    "ds_FaceBook.losses_to_pandas().head()"
   ]
  },
  {
   "cell_type": "code",
   "execution_count": null,
   "metadata": {},
   "outputs": [],
   "source": []
  }
 ],
 "metadata": {
  "kernelspec": {
   "display_name": "Python 3",
   "language": "python",
   "name": "python3"
  },
  "language_info": {
   "codemirror_mode": {
    "name": "ipython",
    "version": 3
   },
   "file_extension": ".py",
   "mimetype": "text/x-python",
   "name": "python",
   "nbconvert_exporter": "python",
   "pygments_lexer": "ipython3",
   "version": "3.7.2"
  }
 },
 "nbformat": 4,
 "nbformat_minor": 2
}
